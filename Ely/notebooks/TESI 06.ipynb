{
 "cells": [
  {
   "cell_type": "code",
   "execution_count": 44,
   "metadata": {},
   "outputs": [],
   "source": [
    "import pandas as pd\n",
    "import numpy as np\n",
    "from sklearn.cross_validation import cross_val_score\n",
    "from sklearn.model_selection import train_test_split\n",
    "df = pd.read_csv('acessos_buscas2.csv')\n",
    "x = df[['home', 'busca', 'logado']]\n",
    "y = df['comprou']\n",
    "x = pd.get_dummies(x)"
   ]
  },
  {
   "cell_type": "code",
   "execution_count": 45,
   "metadata": {},
   "outputs": [
    {
     "data": {
      "text/plain": [
       "75"
      ]
     },
     "execution_count": 45,
     "metadata": {},
     "output_type": "execute_result"
    }
   ],
   "source": [
    "len(x)"
   ]
  },
  {
   "cell_type": "code",
   "execution_count": 46,
   "metadata": {},
   "outputs": [
    {
     "name": "stdout",
     "output_type": "stream",
     "text": [
      "[0.8        0.4        1.         0.6        1.         0.6\n",
      " 0.8        0.75       0.66666667 0.66666667 1.         1.\n",
      " 0.66666667 0.66666667 0.33333333 1.         1.         0.33333333\n",
      " 1.         1.        ]\n",
      "0.7641666666666667\n",
      "0.22841695549051422\n"
     ]
    }
   ],
   "source": [
    "from sklearn.naive_bayes import MultinomialNB\n",
    "modelo = MultinomialNB()\n",
    "k = 20\n",
    "scores = cross_val_score(modelo,x,y,cv = k)\n",
    "print(scores)\n",
    "\n",
    "taxa_de_acerto = np.mean(scores)\n",
    "print(taxa_de_acerto)\n",
    "desvio = scores.std()\n",
    "print(desvio)"
   ]
  },
  {
   "cell_type": "code",
   "execution_count": 25,
   "metadata": {},
   "outputs": [
    {
     "name": "stdout",
     "output_type": "stream",
     "text": [
      "(Mean(statistic=0.7630952380952382, minmax=(0.7004566268264764, 0.825733849364)), Variance(statistic=0.009857871720116618, minmax=(0.003627500623003127, 0.025553758834167533)), Std_dev(statistic=0.0958148007929971, minmax=(0.060228735857588166, 0.15985543104370128)))\n"
     ]
    }
   ],
   "source": [
    "from scipy.stats import bayes_mvs\n",
    "\n",
    "print(bayes_mvs(scores,0.95))"
   ]
  }
 ],
 "metadata": {
  "kernelspec": {
   "display_name": "Python 3",
   "language": "python",
   "name": "python3"
  },
  "language_info": {
   "codemirror_mode": {
    "name": "ipython",
    "version": 3
   },
   "file_extension": ".py",
   "mimetype": "text/x-python",
   "name": "python",
   "nbconvert_exporter": "python",
   "pygments_lexer": "ipython3",
   "version": "3.6.5"
  }
 },
 "nbformat": 4,
 "nbformat_minor": 2
}
