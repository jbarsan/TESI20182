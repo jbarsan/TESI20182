{
 "cells": [
  {
   "cell_type": "code",
   "execution_count": 3,
   "metadata": {},
   "outputs": [
    {
     "name": "stdout",
     "output_type": "stream",
     "text": [
      "Downloading: https://www.imdb.com/movies-in-theaters/?ref_=nv_mv_inth\n",
      "{'PéPequeno (2018)': '50'}\n",
      "{'The Old Man & the Gun (2018)': '84'}\n",
      "{'Monsters and Men (2018)': '66'}\n",
      "{'All About Nina (2018)': '67'}\n",
      "{'O Mistério do Relógio na Parede (2018)': '57'}\n",
      "{'Um Pequeno Favor (2018)': '67'}\n",
      "{'A Freira (2018)': '46'}\n",
      "{'O Predador (2018)': '49'}\n",
      "{'Podres de Ricos (2018)': '74'}\n",
      "{'White Boy Rick (2018)': '59'}\n",
      "{'A Justiceira (2018)': '29'}\n",
      "{'Fahrenheit 11/9 (2018)': '69'}\n",
      "{'Megatubarão (2018)': '46'}\n",
      "{'Buscando... (2018)': '71'}\n"
     ]
    }
   ],
   "source": [
    "from bs4 import BeautifulSoup as bs\n",
    "import requests\n",
    "import requests_cache\n",
    "import time\n",
    "\n",
    "def download(url, num_retries=5):\n",
    "    requests_cache.install_cache()\n",
    "    print('Downloading:', url)\n",
    "    page = None\n",
    "    try:\n",
    "        response = requests.get(url)\n",
    "        # print(response.status_code)\n",
    "        page = response.text\n",
    "        if response.status_code >= 400:\n",
    "            print('Download error:', response.text)\n",
    "            time.sleep(30)\n",
    "            print('Tentando novamento: ' + str(num_retries))\n",
    "            if num_retries and 500 <= response.status_code < 600:\n",
    "                return download(url, num_retries - 1)\n",
    "    except requests.exceptions.RequestException as e:\n",
    "        print('Download error:', e)\n",
    "    return page\n",
    "\n",
    "\n",
    "def busca_dados(url):\n",
    "    html = download(url)\n",
    "    soup = bs(html, 'html5lib')\n",
    "    lista = []\n",
    "    dic = {}\n",
    "    for div in soup.find_all('div', {'class':'list_item'}):\n",
    "        for a in div.select('h4 a'):\n",
    "            titulo = a.get_text().strip()\n",
    "        for score in div.find_all('span', {'class': 'metascore'}):\n",
    "            if score == None:\n",
    "                s = 'Ainda não avaliado'\n",
    "            else:\n",
    "                s = score.get_text().strip()\n",
    "                dic[titulo] = s\n",
    "                lista.append(dic)\n",
    "        \n",
    "        s = None # Zerando o score\n",
    "        dic = {} # Zerando o dict\n",
    "    return lista\n",
    "\n",
    "def main():\n",
    "    url = 'https://www.imdb.com/movies-in-theaters/?ref_=nv_mv_inth'\n",
    "    filmes = busca_dados(url)\n",
    "    \n",
    "    for filme in filmes:\n",
    "        print(filme)\n",
    "\n",
    "\n",
    "if __name__=='__main__':\n",
    "    main()"
   ]
  },
  {
   "cell_type": "code",
   "execution_count": null,
   "metadata": {},
   "outputs": [],
   "source": []
  }
 ],
 "metadata": {
  "kernelspec": {
   "display_name": "Python 3",
   "language": "python",
   "name": "python3"
  },
  "language_info": {
   "codemirror_mode": {
    "name": "ipython",
    "version": 3
   },
   "file_extension": ".py",
   "mimetype": "text/x-python",
   "name": "python",
   "nbconvert_exporter": "python",
   "pygments_lexer": "ipython3",
   "version": "3.6.6"
  }
 },
 "nbformat": 4,
 "nbformat_minor": 2
}
