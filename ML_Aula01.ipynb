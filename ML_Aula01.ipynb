{
 "cells": [
  {
   "cell_type": "markdown",
   "metadata": {},
   "source": [
    "# Introdução à classificação"
   ]
  },
  {
   "cell_type": "markdown",
   "metadata": {},
   "source": [
    "# Porco ou Cachorro?"
   ]
  },
  {
   "cell_type": "code",
   "execution_count": 4,
   "metadata": {},
   "outputs": [],
   "source": [
    "porco1 = [1,1,0]\n",
    "porco2 = [1,1,0]\n",
    "porco3 = [1,1,0]\n",
    "\n",
    "cachorro1 = [1,1,1]\n",
    "cachorro2 = [0,1,1]\n",
    "cachorro3 = [0,0,1]"
   ]
  },
  {
   "cell_type": "code",
   "execution_count": 5,
   "metadata": {},
   "outputs": [
    {
     "data": {
      "text/plain": [
       "MultinomialNB(alpha=1.0, class_prior=None, fit_prior=True)"
      ]
     },
     "execution_count": 5,
     "metadata": {},
     "output_type": "execute_result"
    }
   ],
   "source": [
    "dados_treino = [porco1, porco2, porco3, cachorro1, cachorro2, cachorro3]\n",
    "marcacao = [1,1,1,-1,-1,-1]\n",
    "from sklearn.naive_bayes import MultinomialNB\n",
    "modelo = MultinomialNB()\n",
    "modelo.fit(dados_treino, marcacao)"
   ]
  },
  {
   "cell_type": "code",
   "execution_count": 9,
   "metadata": {},
   "outputs": [
    {
     "name": "stdout",
     "output_type": "stream",
     "text": [
      "[-1]\n"
     ]
    }
   ],
   "source": [
    "misterioso1 = [1,1,1]\n",
    "print(modelo.predict([misterioso1]))"
   ]
  },
  {
   "cell_type": "code",
   "execution_count": 7,
   "metadata": {},
   "outputs": [
    {
     "name": "stdout",
     "output_type": "stream",
     "text": [
      "[-1  1  1 -1 -1]\n"
     ]
    }
   ],
   "source": [
    "misterioso2 = [0,0,0]\n",
    "misterioso3 = [0,1,0]\n",
    "misterioso4 = [1,0,0]\n",
    "misterioso5 = [0,0,1]\n",
    "misterioso6 = [1,0,1]\n",
    "print(modelo.predict([misterioso2, misterioso3, misterioso4, misterioso5, misterioso6]))"
   ]
  },
  {
   "cell_type": "code",
   "execution_count": null,
   "metadata": {},
   "outputs": [],
   "source": []
  }
 ],
 "metadata": {
  "kernelspec": {
   "display_name": "Python 3",
   "language": "python",
   "name": "python3"
  },
  "language_info": {
   "codemirror_mode": {
    "name": "ipython",
    "version": 3
   },
   "file_extension": ".py",
   "mimetype": "text/x-python",
   "name": "python",
   "nbconvert_exporter": "python",
   "pygments_lexer": "ipython3",
   "version": "3.6.6"
  }
 },
 "nbformat": 4,
 "nbformat_minor": 2
}
