{
 "cells": [
  {
   "cell_type": "code",
   "execution_count": 7,
   "metadata": {},
   "outputs": [
    {
     "name": "stdout",
     "output_type": "stream",
     "text": [
      "{'Título': 'The House with a Clock in Its Walls', 'Avaliação': '68%'}\n",
      "{'Título': 'Fahrenheit 11/9', 'Avaliação': '79%'}\n",
      "{'Título': 'Assassination Nation', 'Avaliação': '65%'}\n",
      "{'Título': 'Life Itself', 'Avaliação': '13%'}\n",
      "{'Título': 'The Sisters Brothers', 'Avaliação': '82%'}\n",
      "{'Título': 'Colette', 'Avaliação': '92%'}\n",
      "{'Título': 'Tea With the Dames (Nothing Like a Dame)', 'Avaliação': '100%'}\n",
      "{'Título': 'Love, Gilda', 'Avaliação': '83%'}\n",
      "{'Título': 'Little Italy', 'Avaliação': '13%'}\n",
      "{'Título': 'The Last Suit (El último traje)', 'Avaliação': '80%'}\n",
      "{'Título': 'Beyond the Sky', 'Avaliação': 'No Score'}\n",
      "{'Título': 'Quincy', 'Avaliação': '86%'}\n",
      "{'Título': 'Garry Winogrand: All Things are Photographable', 'Avaliação': '92%'}\n",
      "{'Título': 'The Song of Sway Lake', 'Avaliação': '52%'}\n",
      "{'Título': 'White Rabbit', 'Avaliação': '80%'}\n",
      "{'Título': 'A Happening of Monumental Proportions', 'Avaliação': '14%'}\n",
      "{'Título': 'Goyo: The Boy General', 'Avaliação': 'No Score'}\n",
      "{'Título': 'Intelligent Lives', 'Avaliação': '100%'}\n",
      "{'Título': 'Moses and the Ten Commandments: The Movie', 'Avaliação': 'No Score'}\n",
      "{'Título': 'My Son (Mon garçon)', 'Avaliação': '57%'}\n",
      "{'Título': 'Extremity', 'Avaliação': 'No Score'}\n",
      "{'Título': 'Strange Nature', 'Avaliação': 'No Score'}\n",
      "{'Título': 'Call Her Ganda', 'Avaliação': '100%'}\n",
      "{'Título': 'The Pagan King', 'Avaliação': 'No Score'}\n",
      "{'Título': 'The Storyteller', 'Avaliação': 'No Score'}\n",
      "{'Título': 'Painless', 'Avaliação': 'No Score'}\n",
      "{'Título': 'Qismat', 'Avaliação': 'No Score'}\n",
      "{'Título': 'The Great Battle', 'Avaliação': 'No Score'}\n",
      "{'Título': 'Feng Shui (Myung-dang)', 'Avaliação': 'No Score'}\n"
     ]
    }
   ],
   "source": [
    "# Importando os módulos necessários\n",
    "from bs4 import BeautifulSoup as bs\n",
    "import html5lib\n",
    "from selenium import webdriver\n",
    "\n",
    "# Setando a opção 'headless' do chrome\n",
    "options = webdriver.ChromeOptions()\n",
    "options.add_argument('headless')\n",
    "driver = webdriver.Chrome(options=options)\n",
    "\n",
    "# URL da página\n",
    "url = 'https://www.rottentomatoes.com/browse/opening'\n",
    "\n",
    "driver.get(url)\n",
    "\n",
    "html = driver.page_source\n",
    "soup = bs(html, 'html5lib')\n",
    "movies = soup.find_all('div', {'class': 'mb-movie'})\n",
    "lista = []\n",
    "\n",
    "for movie in movies:\n",
    "    title = movie.find('h3', class_= 'movieTitle').text\n",
    "    meter_score = movie.find('span', class_= 'tMeterScore')\n",
    "    score = None\n",
    "    if meter_score == None:\n",
    "        score = 'No Score'\n",
    "    else:\n",
    "        score = meter_score.text\n",
    "    info = {'Título': title, \"Avaliação\": score}\n",
    "    lista.append(info)\n",
    "    print(info)\n",
    "    "
   ]
  },
  {
   "cell_type": "code",
   "execution_count": null,
   "metadata": {},
   "outputs": [],
   "source": []
  },
  {
   "cell_type": "code",
   "execution_count": null,
   "metadata": {},
   "outputs": [],
   "source": []
  }
 ],
 "metadata": {
  "kernelspec": {
   "display_name": "Python 3",
   "language": "python",
   "name": "python3"
  },
  "language_info": {
   "codemirror_mode": {
    "name": "ipython",
    "version": 3
   },
   "file_extension": ".py",
   "mimetype": "text/x-python",
   "name": "python",
   "nbconvert_exporter": "python",
   "pygments_lexer": "ipython3",
   "version": "3.6.6"
  }
 },
 "nbformat": 4,
 "nbformat_minor": 2
}
