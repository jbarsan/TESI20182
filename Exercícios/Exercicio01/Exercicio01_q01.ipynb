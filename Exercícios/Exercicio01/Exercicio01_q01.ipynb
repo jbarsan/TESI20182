{
 "cells": [
  {
   "cell_type": "code",
   "execution_count": 8,
   "metadata": {},
   "outputs": [
    {
     "name": "stdout",
     "output_type": "stream",
     "text": [
      "{'Título': 'Night School', 'Avaliação': 'Ainda não avaliado'}\n",
      "{'Título': 'Smallfoot', 'Avaliação': '77%'}\n",
      "{'Título': 'Hell Fest', 'Avaliação': 'Ainda não avaliado'}\n",
      "{'Título': 'The Old Man & the Gun', 'Avaliação': '93%'}\n",
      "{'Título': \"Black '47\", 'Avaliação': '68%'}\n",
      "{'Título': 'Free Solo', 'Avaliação': '100%'}\n",
      "{'Título': \"Summer '03\", 'Avaliação': 'Ainda não avaliado'}\n",
      "{'Título': 'MATANGI/MAYA/M.I.A.', 'Avaliação': '91%'}\n",
      "{'Título': 'The Padre', 'Avaliação': 'Ainda não avaliado'}\n",
      "{'Título': 'Little Women', 'Avaliação': 'Ainda não avaliado'}\n",
      "{'Título': 'All About Nina', 'Avaliação': '92%'}\n",
      "{'Título': 'The Healer', 'Avaliação': 'Ainda não avaliado'}\n",
      "{'Título': 'Bad Reputation', 'Avaliação': '83%'}\n",
      "{'Título': 'Monsters and Men', 'Avaliação': '75%'}\n",
      "{'Título': 'Domain', 'Avaliação': 'Ainda não avaliado'}\n",
      "{'Título': 'Scaffolding', 'Avaliação': '83%'}\n",
      "{'Título': '3 Years in Pakistan: The Erik Audé Story', 'Avaliação': 'Ainda não avaliado'}\n",
      "{'Título': 'Cruise', 'Avaliação': 'Ainda não avaliado'}\n",
      "{'Título': 'At First Light', 'Avaliação': '43%'}\n",
      "{'Título': 'The Outer Wild', 'Avaliação': 'Ainda não avaliado'}\n",
      "{'Título': 'The Samuel Project', 'Avaliação': 'Ainda não avaliado'}\n",
      "{'Título': 'Maggie Black', 'Avaliação': 'Ainda não avaliado'}\n",
      "{'Título': 'Sui Dhaaga: Made in India', 'Avaliação': 'Ainda não avaliado'}\n",
      "{'Título': '306 Hollywood', 'Avaliação': '73%'}\n",
      "{'Título': 'Conny Plank - The Potential of Noise', 'Avaliação': 'Ainda não avaliado'}\n",
      "{'Título': 'Queercore: How To Punk A Revolution', 'Avaliação': 'Ainda não avaliado'}\n",
      "{'Título': 'The System', 'Avaliação': 'Ainda não avaliado'}\n",
      "{'Título': 'Trico Tri: Happy Halloween', 'Avaliação': 'Ainda não avaliado'}\n",
      "{'Título': 'Maximum Impact', 'Avaliação': 'Ainda não avaliado'}\n",
      "{'Título': 'A Dangerous Idea: Eugenics, Genetics and the American Dream', 'Avaliação': 'Ainda não avaliado'}\n",
      "{'Título': 'Golden Job', 'Avaliação': 'Ainda não avaliado'}\n",
      "{'Título': 'Pataakha', 'Avaliação': 'Ainda não avaliado'}\n"
     ]
    }
   ],
   "source": [
    "# Importando os módulos necessários\n",
    "from bs4 import BeautifulSoup as bs\n",
    "import html5lib\n",
    "from selenium import webdriver\n",
    "\n",
    "\n",
    "def download(url):\n",
    "    # Setando a opção 'headless' do chrome\n",
    "    opcoes = webdriver.ChromeOptions()\n",
    "    opcoes.add_argument('headless')\n",
    "    driver = webdriver.Chrome(options=opcoes)\n",
    "    driver.get(url)\n",
    "    return driver.page_source\n",
    "\n",
    "\n",
    "def busca_dados(url):\n",
    "    html = download(url)\n",
    "    soup = bs(html, 'html5lib')\n",
    "    filmes = soup.find_all('div', {'class': 'mb-movie'})\n",
    "    lista_filmes = []\n",
    "\n",
    "    for filme in filmes:\n",
    "        titulo = filme.find('h3', class_= 'movieTitle').text\n",
    "        meta_score = filme.find('span', class_= 'tMeterScore')\n",
    "        score = None\n",
    "        if meta_score == None:\n",
    "            score = 'Ainda não avaliado'\n",
    "        else:\n",
    "            score = meta_score.text\n",
    "        info = {'Título': titulo, \"Avaliação\": score}\n",
    "        lista_filmes.append(info)\n",
    "    return lista_filmes\n",
    "\n",
    "def main():\n",
    "    # URL da página\n",
    "    url = 'https://www.rottentomatoes.com/browse/opening'\n",
    "    res = busca_dados(url)\n",
    "    for i in res:\n",
    "        print(i)\n",
    "    \n",
    "\n",
    "if __name__=='__main__':\n",
    "    main()"
   ]
  },
  {
   "cell_type": "code",
   "execution_count": null,
   "metadata": {},
   "outputs": [],
   "source": []
  }
 ],
 "metadata": {
  "kernelspec": {
   "display_name": "Python 3",
   "language": "python",
   "name": "python3"
  },
  "language_info": {
   "codemirror_mode": {
    "name": "ipython",
    "version": 3
   },
   "file_extension": ".py",
   "mimetype": "text/x-python",
   "name": "python",
   "nbconvert_exporter": "python",
   "pygments_lexer": "ipython3",
   "version": "3.6.6"
  }
 },
 "nbformat": 4,
 "nbformat_minor": 2
}
