{
 "cells": [
  {
   "cell_type": "code",
   "execution_count": 1,
   "metadata": {},
   "outputs": [],
   "source": [
    "import pandas as pd"
   ]
  },
  {
   "cell_type": "code",
   "execution_count": 2,
   "metadata": {},
   "outputs": [],
   "source": [
    "df = pd.read_csv('risco-credito.csv')"
   ]
  },
  {
   "cell_type": "code",
   "execution_count": 3,
   "metadata": {},
   "outputs": [
    {
     "name": "stdout",
     "output_type": "stream",
     "text": [
      "historia não tem valores nulos\n",
      "divida não tem valores nulos\n",
      "garantias não tem valores nulos\n",
      "renda não tem valores nulos\n",
      "risco não tem valores nulos\n"
     ]
    }
   ],
   "source": [
    "df_columns = df.columns\n",
    "for columns in df_columns:\n",
    "    for df_null in df[columns].isnull():\n",
    "        if df_null:\n",
    "            txt = '{} tem valores nulos'.format(columns)\n",
    "        else:\n",
    "            txt = '{} não tem valores nulos'.format(columns)\n",
    "    print(txt)"
   ]
  },
  {
   "cell_type": "code",
   "execution_count": 7,
   "metadata": {},
   "outputs": [
    {
     "name": "stdout",
     "output_type": "stream",
     "text": [
      "        historia divida garantias     renda\n",
      "0           ruim   alta   nenhuma      0_15\n",
      "1   desconhecida   alta   nenhuma     15_35\n",
      "2   desconhecida  baixa   nenhuma     15_35\n",
      "3   desconhecida  baixa   nenhuma  acima_35\n",
      "4   desconhecida  baixa   nenhuma  acima_35\n",
      "5   desconhecida  baixa  adequada  acima_35\n",
      "6           ruim  baixa   nenhuma      0_15\n",
      "7           ruim  baixa  adequada  acima_35\n",
      "8            boa  baixa   nenhuma  acima_35\n",
      "9            boa   alta  adequada  acima_35\n",
      "10           boa   alta   nenhuma      0_15\n",
      "11           boa   alta   nenhuma     15_35\n",
      "12           boa   alta   nenhuma  acima_35\n",
      "13          ruim   alta   nenhuma     15_35\n",
      "0         alto\n",
      "1         alto\n",
      "2     moderado\n",
      "3         alto\n",
      "4        baixo\n",
      "5        baixo\n",
      "6         alto\n",
      "7     moderado\n",
      "8        baixo\n",
      "9        baixo\n",
      "10        alto\n",
      "11    moderado\n",
      "12       baixo\n",
      "13        alto\n",
      "Name: risco, dtype: object\n"
     ]
    }
   ],
   "source": [
    "x = df[['historia', 'divida', 'garantias', 'renda']]\n",
    "print(x)\n",
    "y = df['risco']\n",
    "print(y)"
   ]
  },
  {
   "cell_type": "code",
   "execution_count": null,
   "metadata": {},
   "outputs": [],
   "source": []
  }
 ],
 "metadata": {
  "kernelspec": {
   "display_name": "Python 3",
   "language": "python",
   "name": "python3"
  },
  "language_info": {
   "codemirror_mode": {
    "name": "ipython",
    "version": 3
   },
   "file_extension": ".py",
   "mimetype": "text/x-python",
   "name": "python",
   "nbconvert_exporter": "python",
   "pygments_lexer": "ipython3",
   "version": "3.6.6"
  }
 },
 "nbformat": 4,
 "nbformat_minor": 2
}
