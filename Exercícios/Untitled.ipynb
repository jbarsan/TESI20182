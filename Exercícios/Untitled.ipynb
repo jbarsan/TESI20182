{
 "cells": [
  {
   "cell_type": "code",
   "execution_count": 4,
   "metadata": {},
   "outputs": [
    {
     "name": "stdout",
     "output_type": "stream",
     "text": [
      "Downloading: https://www.climatempo.com.br/previsao-do-tempo/cidade/264/teresina-pi\n"
     ]
    },
    {
     "ename": "IndexError",
     "evalue": "list index out of range",
     "output_type": "error",
     "traceback": [
      "\u001b[0;31m---------------------------------------------------------------------------\u001b[0m",
      "\u001b[0;31mIndexError\u001b[0m                                Traceback (most recent call last)",
      "\u001b[0;32m<ipython-input-4-39017921cad5>\u001b[0m in \u001b[0;36m<module>\u001b[0;34m()\u001b[0m\n\u001b[1;32m     62\u001b[0m \u001b[0;34m\u001b[0m\u001b[0m\n\u001b[1;32m     63\u001b[0m \u001b[0;32mif\u001b[0m \u001b[0m__name__\u001b[0m\u001b[0;34m==\u001b[0m\u001b[0;34m'__main__'\u001b[0m\u001b[0;34m:\u001b[0m\u001b[0;34m\u001b[0m\u001b[0m\n\u001b[0;32m---> 64\u001b[0;31m     \u001b[0mmain\u001b[0m\u001b[0;34m(\u001b[0m\u001b[0;34m)\u001b[0m\u001b[0;34m\u001b[0m\u001b[0m\n\u001b[0m",
      "\u001b[0;32m<ipython-input-4-39017921cad5>\u001b[0m in \u001b[0;36mmain\u001b[0;34m()\u001b[0m\n\u001b[1;32m     59\u001b[0m \u001b[0;34m\u001b[0m\u001b[0m\n\u001b[1;32m     60\u001b[0m \u001b[0;32mdef\u001b[0m \u001b[0mmain\u001b[0m\u001b[0;34m(\u001b[0m\u001b[0;34m)\u001b[0m\u001b[0;34m:\u001b[0m\u001b[0;34m\u001b[0m\u001b[0m\n\u001b[0;32m---> 61\u001b[0;31m     \u001b[0mexibe\u001b[0m\u001b[0;34m(\u001b[0m\u001b[0;34m)\u001b[0m\u001b[0;34m\u001b[0m\u001b[0m\n\u001b[0m\u001b[1;32m     62\u001b[0m \u001b[0;34m\u001b[0m\u001b[0m\n\u001b[1;32m     63\u001b[0m \u001b[0;32mif\u001b[0m \u001b[0m__name__\u001b[0m\u001b[0;34m==\u001b[0m\u001b[0;34m'__main__'\u001b[0m\u001b[0;34m:\u001b[0m\u001b[0;34m\u001b[0m\u001b[0m\n",
      "\u001b[0;32m<ipython-input-4-39017921cad5>\u001b[0m in \u001b[0;36mexibe\u001b[0;34m()\u001b[0m\n\u001b[1;32m     55\u001b[0m         \u001b[0mVento\u001b[0m\u001b[0;34m:\u001b[0m       \u001b[0;34m{\u001b[0m\u001b[0;36m5\u001b[0m\u001b[0;34m}\u001b[0m\u001b[0;34m\u001b[0m\u001b[0m\n\u001b[1;32m     56\u001b[0m         \u001b[0mAtualizado\u001b[0m\u001b[0;34m:\u001b[0m  \u001b[0;34m{\u001b[0m\u001b[0;36m6\u001b[0m\u001b[0;34m}\u001b[0m\u001b[0;34m\u001b[0m\u001b[0m\n\u001b[0;32m---> 57\u001b[0;31m         \"\"\".format(res[0], res[1], res[2], res[3], res[4], res[5], res[6])\n\u001b[0m\u001b[1;32m     58\u001b[0m     \u001b[0mprint\u001b[0m\u001b[0;34m(\u001b[0m\u001b[0mtexto\u001b[0m\u001b[0;34m)\u001b[0m\u001b[0;34m\u001b[0m\u001b[0m\n\u001b[1;32m     59\u001b[0m \u001b[0;34m\u001b[0m\u001b[0m\n",
      "\u001b[0;31mIndexError\u001b[0m: list index out of range"
     ]
    }
   ],
   "source": [
    "import requests\n",
    "import requests_cache\n",
    "import time\n",
    "from bs4 import BeautifulSoup as bs\n",
    "import html5lib\n",
    "import re\n",
    "import sqlite3\n",
    "from datetime import datetime\n",
    "\n",
    "\n",
    "def download(url, num_retries=5):\n",
    "    requests_cache.install_cache()\n",
    "    print('Downloading:', url)\n",
    "    page = None\n",
    "    try:\n",
    "        response = requests.get(url)\n",
    "        # print(response.status_code)\n",
    "        page = response.text\n",
    "        if response.status_code >= 400:\n",
    "            print('Download error:', response.text)\n",
    "            time.sleep(30)\n",
    "            print('Tentando novamento: ' + str(num_retries))\n",
    "            if num_retries and 500 <= response.status_code < 600:\n",
    "                return download(url, num_retries - 1)\n",
    "    except requests.exceptions.RequestException as e:\n",
    "        print('Download error:', e)\n",
    "    return page\n",
    "\n",
    "\n",
    "def busca_dados(url):\n",
    "    html = download(url)\n",
    "    soup = bs(html, 'html5lib')\n",
    "    cidade = soup.find('h1', id='momento-localidade').get_text()\n",
    "    temperatura = soup.find('p', id='momento-temperatura').get_text()\n",
    "    sensacao = soup.find('li', id='momento-sensacao').get_text()\n",
    "    umidade = soup.find('li', id='momento-humidade').get_text()\n",
    "    pressao = soup.find('li', id='momento-pressao').get_text()\n",
    "    vento = soup.find('a', id='momento-vento').get_text().strip(\"\\n\")\n",
    "    vento = re.sub(r'[^\\dkm/h]','',vento)\n",
    "    atualizado = soup.find('p', id='momento-atualizacao').get_text()\n",
    "    atualizado = re.search(r'.\\d\\d:\\d\\d$',atualizado).group(0)\n",
    "    dados = [(cidade, temperatura, sensacao, umidade, pressao, vento, atualizado)]\n",
    "    return dados\n",
    "\n",
    "def exibe():\n",
    "    url = 'https://www.climatempo.com.br/previsao-do-tempo/cidade/264/teresina-pi'\n",
    "    res = busca_dados(url)\n",
    "    for i in res:\n",
    "        texto = \"\"\"\n",
    "        Cidade:      {0}\n",
    "        Temperatura: {1}\n",
    "        Sensação:    {2}\n",
    "        Umidade:     {3}\n",
    "        Pressão:     {4}\n",
    "        Vento:       {5}\n",
    "        Atualizado:  {6}\n",
    "        \"\"\".format(res[0], res[1], res[2], res[3], res[4], res[5], res[6])\n",
    "    print(texto)\n",
    "\n",
    "def main():\n",
    "    exibe()\n",
    "\n",
    "if __name__=='__main__':\n",
    "    main()"
   ]
  },
  {
   "cell_type": "code",
   "execution_count": null,
   "metadata": {},
   "outputs": [],
   "source": []
  }
 ],
 "metadata": {
  "kernelspec": {
   "display_name": "Python 3",
   "language": "python",
   "name": "python3"
  },
  "language_info": {
   "codemirror_mode": {
    "name": "ipython",
    "version": 3
   },
   "file_extension": ".py",
   "mimetype": "text/x-python",
   "name": "python",
   "nbconvert_exporter": "python",
   "pygments_lexer": "ipython3",
   "version": "3.6.6"
  }
 },
 "nbformat": 4,
 "nbformat_minor": 2
}
